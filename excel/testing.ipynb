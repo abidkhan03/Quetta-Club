{
 "cells": [
  {
   "cell_type": "code",
   "execution_count": 1,
   "metadata": {},
   "outputs": [],
   "source": [
    "import pandas as pd\n",
    "import numpy as np\n"
   ]
  },
  {
   "cell_type": "code",
   "execution_count": 2,
   "metadata": {},
   "outputs": [],
   "source": [
    "df = pd.read_excel('bills.xlsx')"
   ]
  },
  {
   "cell_type": "code",
   "execution_count": 3,
   "metadata": {},
   "outputs": [
    {
     "data": {
      "text/html": [
       "<div>\n",
       "<style scoped>\n",
       "    .dataframe tbody tr th:only-of-type {\n",
       "        vertical-align: middle;\n",
       "    }\n",
       "\n",
       "    .dataframe tbody tr th {\n",
       "        vertical-align: top;\n",
       "    }\n",
       "\n",
       "    .dataframe thead th {\n",
       "        text-align: right;\n",
       "    }\n",
       "</style>\n",
       "<table border=\"1\" class=\"dataframe\">\n",
       "  <thead>\n",
       "    <tr style=\"text-align: right;\">\n",
       "      <th></th>\n",
       "      <th>BILL No</th>\n",
       "      <th>Rank</th>\n",
       "      <th>POS No</th>\n",
       "      <th>Name</th>\n",
       "      <th>Address</th>\n",
       "      <th>On Account Of</th>\n",
       "      <th>Dated</th>\n",
       "      <th>Month</th>\n",
       "      <th>Amount</th>\n",
       "      <th>Discount</th>\n",
       "      <th>Net Amount</th>\n",
       "    </tr>\n",
       "  </thead>\n",
       "  <tbody>\n",
       "    <tr>\n",
       "      <th>0</th>\n",
       "      <td>65501.0</td>\n",
       "      <td>Staff</td>\n",
       "      <td>POS-10138-9-2022</td>\n",
       "      <td>MR SARBAZ KHAN BBQ COOK</td>\n",
       "      <td>BBQ Cook</td>\n",
       "      <td>Take Away</td>\n",
       "      <td>20-09-2022</td>\n",
       "      <td>2022-09-22</td>\n",
       "      <td>450</td>\n",
       "      <td>450</td>\n",
       "      <td>900</td>\n",
       "    </tr>\n",
       "    <tr>\n",
       "      <th>1</th>\n",
       "      <td>65502.0</td>\n",
       "      <td>Staff</td>\n",
       "      <td>POS-10167-9-2022</td>\n",
       "      <td>MR MUSHAHID MUZAFAR KARAI COOK</td>\n",
       "      <td>Karachi Cook</td>\n",
       "      <td>Take Away</td>\n",
       "      <td>20-09-2022</td>\n",
       "      <td>2022-09-22</td>\n",
       "      <td>425</td>\n",
       "      <td>425</td>\n",
       "      <td>850</td>\n",
       "    </tr>\n",
       "    <tr>\n",
       "      <th>2</th>\n",
       "      <td>65503.0</td>\n",
       "      <td>Staff</td>\n",
       "      <td>POS-10179-9-2022</td>\n",
       "      <td>MR BILAL RAZA</td>\n",
       "      <td>SECURTY GUARD</td>\n",
       "      <td>Take Away</td>\n",
       "      <td>20-09-2022</td>\n",
       "      <td>2022-09-22</td>\n",
       "      <td>110</td>\n",
       "      <td>0</td>\n",
       "      <td>110</td>\n",
       "    </tr>\n",
       "    <tr>\n",
       "      <th>3</th>\n",
       "      <td>65504.0</td>\n",
       "      <td>Maj R</td>\n",
       "      <td>POS-10185-9-2022</td>\n",
       "      <td>MAJ (R) NAZAR C/O IFTEKHAR HEAD WAITER</td>\n",
       "      <td>NaN</td>\n",
       "      <td>Take Away</td>\n",
       "      <td>20-09-2022</td>\n",
       "      <td>2022-09-22</td>\n",
       "      <td>260</td>\n",
       "      <td>0</td>\n",
       "      <td>260</td>\n",
       "    </tr>\n",
       "    <tr>\n",
       "      <th>4</th>\n",
       "      <td>65505.0</td>\n",
       "      <td>Staff</td>\n",
       "      <td>POS-10188-9-2022</td>\n",
       "      <td>MR NADEEM KHAN TANDORCHI</td>\n",
       "      <td>Tandochi</td>\n",
       "      <td>Take Away</td>\n",
       "      <td>20-09-2022</td>\n",
       "      <td>2022-09-22</td>\n",
       "      <td>375</td>\n",
       "      <td>375</td>\n",
       "      <td>750</td>\n",
       "    </tr>\n",
       "  </tbody>\n",
       "</table>\n",
       "</div>"
      ],
      "text/plain": [
       "   BILL No   Rank            POS No                                    Name  \\\n",
       "0  65501.0  Staff  POS-10138-9-2022                 MR SARBAZ KHAN BBQ COOK   \n",
       "1  65502.0  Staff  POS-10167-9-2022          MR MUSHAHID MUZAFAR KARAI COOK   \n",
       "2  65503.0  Staff  POS-10179-9-2022                          MR BILAL RAZA    \n",
       "3  65504.0  Maj R  POS-10185-9-2022  MAJ (R) NAZAR C/O IFTEKHAR HEAD WAITER   \n",
       "4  65505.0  Staff  POS-10188-9-2022                MR NADEEM KHAN TANDORCHI   \n",
       "\n",
       "         Address On Account Of       Dated      Month  Amount  Discount   \\\n",
       "0       BBQ Cook     Take Away  20-09-2022 2022-09-22     450        450   \n",
       "1   Karachi Cook     Take Away  20-09-2022 2022-09-22     425        425   \n",
       "2  SECURTY GUARD     Take Away  20-09-2022 2022-09-22     110          0   \n",
       "3            NaN     Take Away  20-09-2022 2022-09-22     260          0   \n",
       "4       Tandochi     Take Away  20-09-2022 2022-09-22     375        375   \n",
       "\n",
       "   Net Amount  \n",
       "0         900  \n",
       "1         850  \n",
       "2         110  \n",
       "3         260  \n",
       "4         750  "
      ]
     },
     "execution_count": 3,
     "metadata": {},
     "output_type": "execute_result"
    }
   ],
   "source": [
    "df.head()"
   ]
  },
  {
   "cell_type": "markdown",
   "metadata": {},
   "source": [
    "\n"
   ]
  },
  {
   "cell_type": "code",
   "execution_count": 15,
   "metadata": {},
   "outputs": [
    {
     "name": "stdout",
     "output_type": "stream",
     "text": [
      "65501.0\n"
     ]
    }
   ],
   "source": [
    "for index,row in df.iterrows():\n",
    "    print(row[\"BILL No\"])\n",
    "    break\n"
   ]
  },
  {
   "cell_type": "code",
   "execution_count": 16,
   "metadata": {},
   "outputs": [
    {
     "data": {
      "text/plain": [
       "Index(['BILL No', 'Rank', 'POS No', 'Name', 'Address', 'On Account Of',\n",
       "       'Dated', 'Month', 'Amount', 'Discount ', 'Net Amount'],\n",
       "      dtype='object')"
      ]
     },
     "execution_count": 16,
     "metadata": {},
     "output_type": "execute_result"
    }
   ],
   "source": [
    "df.columns"
   ]
  },
  {
   "cell_type": "code",
   "execution_count": null,
   "metadata": {},
   "outputs": [],
   "source": []
  }
 ],
 "metadata": {
  "kernelspec": {
   "display_name": "Python 3.10.1 64-bit",
   "language": "python",
   "name": "python3"
  },
  "language_info": {
   "codemirror_mode": {
    "name": "ipython",
    "version": 3
   },
   "file_extension": ".py",
   "mimetype": "text/x-python",
   "name": "python",
   "nbconvert_exporter": "python",
   "pygments_lexer": "ipython3",
   "version": "3.10.1"
  },
  "orig_nbformat": 4,
  "vscode": {
   "interpreter": {
    "hash": "aee8b7b246df8f9039afb4144a1f6fd8d2ca17a180786b69acc140d282b71a49"
   }
  }
 },
 "nbformat": 4,
 "nbformat_minor": 2
}
